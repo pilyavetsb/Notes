{
 "cells": [
  {
   "cell_type": "markdown",
   "metadata": {},
   "source": [
    "Проверить, принадлежит ли объект к какому-либо классу можно с помощью функции __isinstance__:"
   ]
  },
  {
   "cell_type": "code",
   "execution_count": 1,
   "metadata": {},
   "outputs": [
    {
     "name": "stdout",
     "output_type": "stream",
     "text": [
      "False\n",
      "True\n"
     ]
    }
   ],
   "source": [
    "lul = 'stolb'\n",
    "print(isinstance(lul,int))\n",
    "print(isinstance(lul,str))"
   ]
  },
  {
   "cell_type": "markdown",
   "metadata": {},
   "source": [
    "С помощью __issubclass__, можно проверять, наследует ли один класс от другого. Каждый класс в питоне - наследник класса object."
   ]
  },
  {
   "cell_type": "code",
   "execution_count": 7,
   "metadata": {},
   "outputs": [
    {
     "name": "stdout",
     "output_type": "stream",
     "text": [
      "True\n"
     ]
    }
   ],
   "source": [
    "print(issubclass(int,object))"
   ]
  },
  {
   "cell_type": "markdown",
   "metadata": {},
   "source": [
    "Класс объявляется с помощью киворда (ВНЕЗАПНО) __class__, все \"магические\" методы можно посмотреть с помощью функции __dir__"
   ]
  },
  {
   "cell_type": "code",
   "execution_count": 3,
   "metadata": {},
   "outputs": [
    {
     "name": "stdout",
     "output_type": "stream",
     "text": [
      "['__class__', '__delattr__', '__dict__', '__dir__', '__doc__', '__eq__', '__format__', '__ge__', '__getattribute__', '__gt__', '__hash__', '__init__', '__init_subclass__', '__le__', '__lt__', '__module__', '__ne__', '__new__', '__reduce__', '__reduce_ex__', '__repr__', '__setattr__', '__sizeof__', '__str__', '__subclasshook__', '__weakref__']\n"
     ]
    }
   ],
   "source": [
    "class ESR:\n",
    "    pass\n",
    "print(dir(ESR))"
   ]
  },
  {
   "cell_type": "markdown",
   "metadata": {},
   "source": [
    "Например, метод **__str__** позволяет изменить результат возвращаемый при вызове функции принт на экземпляр (instance) объекта: "
   ]
  },
  {
   "cell_type": "code",
   "execution_count": 5,
   "metadata": {},
   "outputs": [],
   "source": [
    "class Mark:\n",
    "    def __init__(self,name):\n",
    "        self.name = name\n",
    "    def __str__(self):\n",
    "        return f\"VOT ETO PRIKOL {self.name}!\""
   ]
  },
  {
   "cell_type": "code",
   "execution_count": 10,
   "metadata": {},
   "outputs": [
    {
     "name": "stdout",
     "output_type": "stream",
     "text": [
      "VOT ETO PRIKOL Trade!\n"
     ]
    }
   ],
   "source": [
    "kurp = Mark('Trade')\n",
    "print(kurp)"
   ]
  },
  {
   "cell_type": "markdown",
   "metadata": {},
   "source": [
    "Тут важно понимать, что это работает при прямом вызове print, а вот если мы вызываем например из листа, то питон использует не __str__, а __repr__, его, впрочем, тоже можно переопределить"
   ]
  },
  {
   "cell_type": "code",
   "execution_count": 13,
   "metadata": {},
   "outputs": [
    {
     "name": "stdout",
     "output_type": "stream",
     "text": [
      "[Drugoi Prikol: kurp, Drugoi Prikol: burp, Drugoi Prikol: durp]\n",
      "VOT ETO PRIKOL kurp\n"
     ]
    }
   ],
   "source": [
    "class Mark:\n",
    "    def __init__(self,name):\n",
    "        self.name = name\n",
    "    def __str__(self):\n",
    "        return f\"VOT ETO PRIKOL {self.name}\"\n",
    "    def __repr__(self):\n",
    "        return f\"Drugoi Prikol: {self.name}\"\n",
    "\n",
    "lister = ['kurp','burp', 'durp']\n",
    "res = [Mark(i) for i in lister]\n",
    "print(res)\n",
    "print(res[0])"
   ]
  },
  {
   "cell_type": "markdown",
   "metadata": {},
   "source": [
    "Атрибут ____dict____ покажет мне все атрибуты объекта, к которому применяется"
   ]
  },
  {
   "cell_type": "code",
   "execution_count": 9,
   "metadata": {},
   "outputs": [
    {
     "name": "stdout",
     "output_type": "stream",
     "text": [
      "{'name': 'Trade'}\n",
      "{'__module__': '__main__', '__init__': <function Mark.__init__ at 0x000002D6C81D7D08>, '__str__': <function Mark.__str__ at 0x000002D6C8280EA0>, '__dict__': <attribute '__dict__' of 'Mark' objects>, '__weakref__': <attribute '__weakref__' of 'Mark' objects>, '__doc__': None}\n"
     ]
    }
   ],
   "source": [
    "print(kurp.__dict__)\n",
    "print(Mark.__dict__)"
   ]
  },
  {
   "cell_type": "markdown",
   "metadata": {},
   "source": [
    "Метод __mro__ показывает в каком порядке питон идет по цепочке наследования, очень полезно когда у нас много сабклассов. Например, в примере ниже мы видим, что в случае с целым числом сначала при поиске какого-либо атрибута питон сначала смотрит в в классе int, а потом в классе object"
   ]
  },
  {
   "cell_type": "code",
   "execution_count": 10,
   "metadata": {},
   "outputs": [
    {
     "data": {
      "text/plain": [
       "(int, object)"
      ]
     },
     "execution_count": 10,
     "metadata": {},
     "output_type": "execute_result"
    }
   ],
   "source": [
    "int.__mro__"
   ]
  },
  {
   "cell_type": "markdown",
   "metadata": {},
   "source": [
    "Метод __new__ позволяет создать т.н. конструктор инстансов. Когда мы создаем по дефолту создаем инстанс вызывается метод __init__, однако если мы определим метод __new__, то сначала будет вызываться __new__, и лишь когда он отработает будет вызван __init__. Это полезно, например, когда мы хотим контролировать кол-во имеющихся инствнсов. Пример:"
   ]
  },
  {
   "cell_type": "code",
   "execution_count": 30,
   "metadata": {},
   "outputs": [
    {
     "name": "stdout",
     "output_type": "stream",
     "text": [
      "i am here\n",
      "here is init babe\n",
      "i am here\n",
      "here is init babe\n",
      "i am here\n",
      "here is init babe\n",
      "i am here\n",
      "1\n"
     ]
    },
    {
     "ename": "RuntimeError",
     "evalue": "Не шмогла я, не шмогла, лимит всего 3",
     "output_type": "error",
     "traceback": [
      "\u001b[1;31m---------------------------------------------------------------------------\u001b[0m",
      "\u001b[1;31mRuntimeError\u001b[0m                              Traceback (most recent call last)",
      "\u001b[1;32m<ipython-input-30-e4dbb826f6aa>\u001b[0m in \u001b[0;36m<module>\u001b[1;34m\u001b[0m\n\u001b[0;32m     18\u001b[0m \u001b[0mres\u001b[0m\u001b[1;33m=\u001b[0m\u001b[1;33m[\u001b[0m\u001b[1;33m]\u001b[0m\u001b[1;33m\u001b[0m\u001b[1;33m\u001b[0m\u001b[0m\n\u001b[0;32m     19\u001b[0m \u001b[1;32mfor\u001b[0m \u001b[0mi\u001b[0m \u001b[1;32min\u001b[0m \u001b[0mlister\u001b[0m\u001b[1;33m:\u001b[0m\u001b[1;33m\u001b[0m\u001b[1;33m\u001b[0m\u001b[0m\n\u001b[1;32m---> 20\u001b[1;33m     \u001b[0mres\u001b[0m\u001b[1;33m.\u001b[0m\u001b[0mappend\u001b[0m\u001b[1;33m(\u001b[0m\u001b[0mMark\u001b[0m\u001b[1;33m(\u001b[0m\u001b[0mi\u001b[0m\u001b[1;33m)\u001b[0m\u001b[1;33m)\u001b[0m\u001b[1;33m\u001b[0m\u001b[1;33m\u001b[0m\u001b[0m\n\u001b[0m\u001b[0;32m     21\u001b[0m \u001b[0mprint\u001b[0m\u001b[1;33m(\u001b[0m\u001b[1;33m(\u001b[0m\u001b[0mlen\u001b[0m\u001b[1;33m(\u001b[0m\u001b[0mres\u001b[0m\u001b[1;33m[\u001b[0m\u001b[1;36m1\u001b[0m\u001b[1;33m]\u001b[0m\u001b[1;33m.\u001b[0m\u001b[0m_instances\u001b[0m\u001b[1;33m)\u001b[0m\u001b[1;33m)\u001b[0m\u001b[1;33m)\u001b[0m\u001b[1;33m\u001b[0m\u001b[1;33m\u001b[0m\u001b[0m\n",
      "\u001b[1;32m<ipython-input-30-e4dbb826f6aa>\u001b[0m in \u001b[0;36m__new__\u001b[1;34m(cls, *args, **kwargs)\u001b[0m\n\u001b[0;32m      6\u001b[0m         \u001b[1;32mif\u001b[0m \u001b[0mlen\u001b[0m\u001b[1;33m(\u001b[0m\u001b[0mcls\u001b[0m\u001b[1;33m.\u001b[0m\u001b[0m_instances\u001b[0m\u001b[1;33m)\u001b[0m\u001b[1;33m>=\u001b[0m\u001b[0mcls\u001b[0m\u001b[1;33m.\u001b[0m\u001b[0mlimit\u001b[0m\u001b[1;33m:\u001b[0m\u001b[1;33m\u001b[0m\u001b[1;33m\u001b[0m\u001b[0m\n\u001b[0;32m      7\u001b[0m             \u001b[0mprint\u001b[0m\u001b[1;33m(\u001b[0m\u001b[1;36m1\u001b[0m\u001b[1;33m)\u001b[0m\u001b[1;33m\u001b[0m\u001b[1;33m\u001b[0m\u001b[0m\n\u001b[1;32m----> 8\u001b[1;33m             \u001b[1;32mraise\u001b[0m \u001b[0mRuntimeError\u001b[0m\u001b[1;33m(\u001b[0m\u001b[1;34mf\"Не шмогла я, не шмогла, лимит всего {cls.limit}\"\u001b[0m\u001b[1;33m)\u001b[0m\u001b[1;33m\u001b[0m\u001b[1;33m\u001b[0m\u001b[0m\n\u001b[0m\u001b[0;32m      9\u001b[0m         \u001b[0minstance\u001b[0m \u001b[1;33m=\u001b[0m \u001b[0msuper\u001b[0m\u001b[1;33m(\u001b[0m\u001b[1;33m)\u001b[0m\u001b[1;33m.\u001b[0m\u001b[0m__new__\u001b[0m\u001b[1;33m(\u001b[0m\u001b[0mcls\u001b[0m\u001b[1;33m)\u001b[0m\u001b[1;33m\u001b[0m\u001b[1;33m\u001b[0m\u001b[0m\n\u001b[0;32m     10\u001b[0m         \u001b[0mcls\u001b[0m\u001b[1;33m.\u001b[0m\u001b[0m_instances\u001b[0m\u001b[1;33m.\u001b[0m\u001b[0mappend\u001b[0m\u001b[1;33m(\u001b[0m\u001b[0minstance\u001b[0m\u001b[1;33m)\u001b[0m\u001b[1;33m\u001b[0m\u001b[1;33m\u001b[0m\u001b[0m\n",
      "\u001b[1;31mRuntimeError\u001b[0m: Не шмогла я, не шмогла, лимит всего 3"
     ]
    }
   ],
   "source": [
    "class Mark:\n",
    "    _instances=[]\n",
    "    limit=3 #т.е. мы не хотим иметь больше 5 инстансов\n",
    "    def __new__(cls,*args,**kwargs):\n",
    "        print(\"i am here\")\n",
    "        if len(cls._instances)>=cls.limit:\n",
    "            print(1)\n",
    "            raise RuntimeError(f\"Не шмогла я, не шмогла, лимит всего {cls.limit}\")\n",
    "        instance = super().__new__(cls)\n",
    "        cls._instances.append(instance)\n",
    "        return instance\n",
    "    \n",
    "    def __init__(self,name):\n",
    "        print (\"here is init babe\")\n",
    "        self.name = name\n",
    "\n",
    "lister = ['kurp','burp', 'durp', 'lurp']\n",
    "res=[]\n",
    "for i in lister:\n",
    "    res.append(Mark(i))\n",
    "print((len(res[1]._instances)))    "
   ]
  },
  {
   "cell_type": "markdown",
   "metadata": {},
   "source": [
    "Методы можно вызывать из других методов (по идее, особенно логично, когда у тебя есть родительских класс с каким-нибудь общим методом)"
   ]
  },
  {
   "cell_type": "code",
   "execution_count": 31,
   "metadata": {},
   "outputs": [],
   "source": [
    "class Human:\n",
    "    def __init__(self, name, age=0):\n",
    "        self._name = name\n",
    "        self._age = age\n",
    " \n",
    "    def _say(self, text):   #имя с нижним подчервкиванием - конвенция по тому, как именовать методы,\n",
    "                            #которые не предназначены к вызову напрямую, а нужны только для вызовов из других методов\n",
    "        print(text)         \n",
    " \n",
    "    def say_name(self):\n",
    "        self._say(f\"Hello, I am {self._name}\")\n",
    " \n",
    "    def say_how_old(self):\n",
    "        self._say(f\"I am {self._age} years old\")"
   ]
  },
  {
   "cell_type": "code",
   "execution_count": 32,
   "metadata": {},
   "outputs": [
    {
     "name": "stdout",
     "output_type": "stream",
     "text": [
      "Hello, I am Bob\n",
      "I am 29 years old\n"
     ]
    }
   ],
   "source": [
    "bob = Human(\"Bob\", age=29)\n",
    "\n",
    "bob.say_name()\n",
    "bob.say_how_old()"
   ]
  },
  {
   "cell_type": "markdown",
   "metadata": {},
   "source": [
    "Есть еще такая вещь как метод класса (classmethod). От обычного отличается тем, что обычному методу передается инстанс (self),\n",
    "а методу класса - именно что класс (cls). По сути своей - просто декоратор внутри класса."
   ]
  },
  {
   "cell_type": "code",
   "execution_count": 39,
   "metadata": {},
   "outputs": [],
   "source": [
    "from datetime import date\n",
    "def extract_description(user_string):\n",
    "    return \"открытие чемпионата мира по футболу\"\n",
    "\n",
    "\n",
    "def extract_date(user_string):\n",
    "    return date(2018, 6, 14)\n",
    "\n",
    "# в идеале тут конечно нормалтнаые функции которые что-то считают а не возвращают одно и то же\n",
    "\n",
    "class Event:\n",
    "    \n",
    "    def __init__(self, description, event_date):\n",
    "        self.description = description\n",
    "        self.event_date = event_date\n",
    "        \n",
    "    def __str__(self):\n",
    "        return f\"Event \\\"{self.description}\\\" at {self.event_date}\"\n",
    "    \n",
    "    @classmethod\n",
    "    def from_string(cls, us_input):\n",
    "        description = extract_description(us_input)\n",
    "        event_date = extract_date(us_input)\n",
    "        return cls(description,event_date)\n"
   ]
  },
  {
   "cell_type": "code",
   "execution_count": 40,
   "metadata": {},
   "outputs": [
    {
     "name": "stdout",
     "output_type": "stream",
     "text": [
      "Event \"открытие чемпионата мира по футболу\" at 2018-06-14\n"
     ]
    }
   ],
   "source": [
    "event = Event.from_string(\"добавить в мой календарь открытие чемпионата мира по футболу на 14 июня 2018 года\")\n",
    "print(event)"
   ]
  },
  {
   "cell_type": "markdown",
   "metadata": {},
   "source": [
    "Так же есть такая вещь как статический метод класса (по сути своей - просто функция). Например, в Java функций нет вообще,\n",
    "есть только методы и статические методы. Основное отличие статического метода от обычного заключается в том, что ему по умолчанию не передается ни объект, ни класс"
   ]
  },
  {
   "cell_type": "code",
   "execution_count": 42,
   "metadata": {},
   "outputs": [],
   "source": [
    "class Human:\n",
    " \n",
    "    def __init__(self, name, age=0):\n",
    "        self.name = name\n",
    "        self.age = age\n",
    "\n",
    "    @staticmethod\n",
    "    def is_age_valid(age):\n",
    "        return 0 < age < 150"
   ]
  },
  {
   "cell_type": "markdown",
   "metadata": {},
   "source": [
    "Как видно из примера выше, статик методу не передается ни self, ни cls."
   ]
  },
  {
   "cell_type": "markdown",
   "metadata": {},
   "source": [
    "Внутри классов есть еще один вид декораторов - property или вычисляемое свойство. У пропертей есть три основных атрибута - \n",
    "__setter__, __getter__ и __deleter__. Первый управляет присвоееним значения, второй - его извлечением и третий - удалением."
   ]
  },
  {
   "cell_type": "markdown",
   "metadata": {},
   "source": [
    "Предположим, у нас есть некий класс Robot с единственным атрибутом power."
   ]
  },
  {
   "cell_type": "code",
   "execution_count": 44,
   "metadata": {},
   "outputs": [],
   "source": [
    "class Robot:\n",
    "    def __init__(self,power):\n",
    "        self.power = power"
   ]
  },
  {
   "cell_type": "markdown",
   "metadata": {},
   "source": [
    "Мы хотим, чтобы power был больше либо равен нулю, потому что отрицательная мощность - нонсенс. Очевидное решение:"
   ]
  },
  {
   "cell_type": "code",
   "execution_count": 45,
   "metadata": {},
   "outputs": [],
   "source": [
    "class Robot:\n",
    "\n",
    "    def __init__(self, power):\n",
    "        self.power = power\n",
    "    \n",
    "    def set_power(self, power):\n",
    "        if power < 0:\n",
    "            self.power = 0\n",
    "        else:\n",
    "            self.power = power"
   ]
  },
  {
   "cell_type": "markdown",
   "metadata": {},
   "source": [
    "Однако это решение не оптимальное. Если кто-то уже юзал наш код до появления метода set_power, и присвоил отрицательное значение, ему придется его переписывать, чего никому бы не хотелось. В такой ситуации мы можем использовать проперти:"
   ]
  },
  {
   "cell_type": "code",
   "execution_count": 4,
   "metadata": {},
   "outputs": [],
   "source": [
    "class Robot:\n",
    " \n",
    "    def __init__(self, power):\n",
    "        self._power = power\n",
    "\n",
    "    power = property()\n",
    "    \n",
    "    @power.setter\n",
    "    def power(self,value):\n",
    "        if value < 0:\n",
    "            self._power = 0\n",
    "        else:\n",
    "            self._power = value\n",
    "            \n",
    "    @power.getter\n",
    "    def power(self):\n",
    "        return self._power\n",
    "    \n",
    "    @power.deleter\n",
    "    def power(self):\n",
    "        print(\"make robot useless\")\n",
    "        del self._power"
   ]
  },
  {
   "cell_type": "code",
   "execution_count": 6,
   "metadata": {},
   "outputs": [
    {
     "name": "stdout",
     "output_type": "stream",
     "text": [
      "0\n"
     ]
    }
   ],
   "source": [
    "wall_e = Robot(100)\n",
    "wall_e.power = -20\n",
    "print(wall_e.power)"
   ]
  },
  {
   "cell_type": "markdown",
   "metadata": {},
   "source": [
    "Если нас не интересует setter и deleter, существует сокращенная форма записи:"
   ]
  },
  {
   "cell_type": "code",
   "execution_count": null,
   "metadata": {},
   "outputs": [],
   "source": [
    "class Robot:\n",
    "    def __init__(self, power):\n",
    "        self._power = power\n",
    "    \n",
    "    @property\n",
    "    def power(self):\n",
    "        # здесь могут быть любые полезные вычисления\n",
    "        return self._power"
   ]
  }
 ],
 "metadata": {
  "kernelspec": {
   "display_name": "Python 3",
   "language": "python",
   "name": "python3"
  },
  "language_info": {
   "codemirror_mode": {
    "name": "ipython",
    "version": 3
   },
   "file_extension": ".py",
   "mimetype": "text/x-python",
   "name": "python",
   "nbconvert_exporter": "python",
   "pygments_lexer": "ipython3",
   "version": "3.7.1"
  }
 },
 "nbformat": 4,
 "nbformat_minor": 2
}
