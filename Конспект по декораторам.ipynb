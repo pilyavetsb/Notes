{
 "cells": [
  {
   "cell_type": "code",
   "execution_count": 1,
   "metadata": {},
   "outputs": [
    {
     "data": {
      "text/plain": [
       "21"
      ]
     },
     "execution_count": 1,
     "metadata": {},
     "output_type": "execute_result"
    }
   ],
   "source": [
    "import functools\n",
    "\n",
    "def logger(func):\n",
    "    @functools.wraps(func)\n",
    "    def wrapped(numbers):\n",
    "        result = func(numbers)\n",
    "        with open('log.txt','w') as f:\n",
    "            f.write(f\"summa:{result}\")\n",
    "        return result\n",
    "    return wrapped\n",
    "\n",
    "@logger\n",
    "def summator(numbers):\n",
    "    return sum(numbers)\n",
    "\n",
    "summator([1,2,3,4,5,6])"
   ]
  },
  {
   "cell_type": "markdown",
   "metadata": {},
   "source": [
    "Но что если мы не хотим писать все время в log.txt, а хотим сами указывать имя файла как параметр? Не вопрос - нужно просто добавить еще один уровень!"
   ]
  },
  {
   "cell_type": "code",
   "execution_count": 2,
   "metadata": {},
   "outputs": [
    {
     "data": {
      "text/plain": [
       "36"
      ]
     },
     "execution_count": 2,
     "metadata": {},
     "output_type": "execute_result"
    }
   ],
   "source": [
    "def logger(filename):\n",
    "    def decorator(func):\n",
    "        @functools.wraps(func)\n",
    "        def wrapped(*args,**kwargs):\n",
    "            result = func(*args,**kwargs)\n",
    "            with open(filename,'w') as f:\n",
    "                f.write(f\"Summa:{result}\")\n",
    "            return result\n",
    "        return wrapped\n",
    "    return decorator\n",
    "\n",
    "@logger('log_text.txt')\n",
    "def summator(numbers):\n",
    "    return sum(numbers)\n",
    "\n",
    "summator([1,2,3,4,5,6,7,8])"
   ]
  },
  {
   "cell_type": "markdown",
   "metadata": {},
   "source": [
    "##### Кроме того, декораторы можно чейнить"
   ]
  },
  {
   "cell_type": "code",
   "execution_count": 4,
   "metadata": {},
   "outputs": [
    {
     "name": "stdout",
     "output_type": "stream",
     "text": [
      "lol1\n",
      "lol2\n",
      "LOLFINALOCHKA\n"
     ]
    }
   ],
   "source": [
    "def first_decorator(func):\n",
    "    @functools.wraps(func)\n",
    "    def wrapped():\n",
    "        print(\"lol1\")\n",
    "        return func()\n",
    "    return wrapped\n",
    "\n",
    "def second_decorator(func):\n",
    "    @functools.wraps(func)\n",
    "    def wrapped():\n",
    "        print(\"lol2\")\n",
    "        return func()\n",
    "    return wrapped\n",
    "    \n",
    "@first_decorator\n",
    "@second_decorator\n",
    "def decorated():\n",
    "    print(\"LOLFINALOCHKA\")\n",
    "    \n",
    "decorated()"
   ]
  },
  {
   "cell_type": "markdown",
   "metadata": {},
   "source": [
    "Особое внимание на порядок применения декораторов - всегда можно проверить себя если вспомнить, что по сути это просто вложенные вызовы функций. Так в нашем случае, без @ это вглядит следующим образом:\n",
    "__decorated = first_decorator(second_decorator(decorated))__, а как мы знаем, сначала всегда выполняется внутренняя функция, а только потом внешняя"
   ]
  },
  {
   "cell_type": "markdown",
   "metadata": {},
   "source": [
    "Попробуем написать декоратор to_json"
   ]
  },
  {
   "cell_type": "code",
   "execution_count": 3,
   "metadata": {},
   "outputs": [
    {
     "data": {
      "text/plain": [
       "'{\"lol\": 42}'"
      ]
     },
     "execution_count": 3,
     "metadata": {},
     "output_type": "execute_result"
    }
   ],
   "source": [
    "import json\n",
    "def to_json(func):\n",
    "    @functools.wraps(func)\n",
    "    def wrapped(*args):\n",
    "        result = func(*args)\n",
    "        return json.dumps(result)\n",
    "    return wrapped\n",
    "\n",
    "@to_json\n",
    "def get_data(x):\n",
    "    return x\n",
    "\n",
    "get_data({'lol':42})"
   ]
  },
  {
   "cell_type": "code",
   "execution_count": null,
   "metadata": {},
   "outputs": [],
   "source": []
  }
 ],
 "metadata": {
  "kernelspec": {
   "display_name": "Python 3",
   "language": "python",
   "name": "python3"
  },
  "language_info": {
   "codemirror_mode": {
    "name": "ipython",
    "version": 3
   },
   "file_extension": ".py",
   "mimetype": "text/x-python",
   "name": "python",
   "nbconvert_exporter": "python",
   "pygments_lexer": "ipython3",
   "version": "3.7.1"
  }
 },
 "nbformat": 4,
 "nbformat_minor": 2
}
