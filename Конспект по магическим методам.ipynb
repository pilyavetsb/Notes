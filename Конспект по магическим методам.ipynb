{
 "cells": [
  {
   "cell_type": "markdown",
   "metadata": {},
   "source": [
    "В питоне есть т.н. магические методы (закрытые в двойное подчеркивание). Самые известные примеры \\_\\_init\\_\\_, \\_\\_str\\_\\_,\n",
    "\\_\\_repr\\_\\_ и тд."
   ]
  },
  {
   "cell_type": "markdown",
   "metadata": {},
   "source": [
    "Разберем некоторые из них. Первый метод - \\_\\_new\\_\\_. Он позволяет создать т.н. называемый конструктор, поскольку является единственным методом, который при инициализации инстанса вызвается раньше, чем \\_\\_init\\_\\_. Часто используется, когда мы хотим контролировать кол-во инстансов объекта. Ниже пример с лимитом 3"
   ]
  },
  {
   "cell_type": "code",
   "execution_count": 1,
   "metadata": {},
   "outputs": [
    {
     "name": "stdout",
     "output_type": "stream",
     "text": [
      "i am here\n",
      "here is init babe\n",
      "i am here\n",
      "here is init babe\n",
      "i am here\n",
      "here is init babe\n",
      "i am here\n",
      "1\n"
     ]
    },
    {
     "ename": "RuntimeError",
     "evalue": "Не шмогла я, не шмогла, лимит всего 3",
     "output_type": "error",
     "traceback": [
      "\u001b[1;31m---------------------------------------------------------------------------\u001b[0m",
      "\u001b[1;31mRuntimeError\u001b[0m                              Traceback (most recent call last)",
      "\u001b[1;32m<ipython-input-1-b112480f9c57>\u001b[0m in \u001b[0;36m<module>\u001b[1;34m\u001b[0m\n\u001b[0;32m     18\u001b[0m \u001b[0mres\u001b[0m\u001b[1;33m=\u001b[0m\u001b[1;33m[\u001b[0m\u001b[1;33m]\u001b[0m\u001b[1;33m\u001b[0m\u001b[1;33m\u001b[0m\u001b[0m\n\u001b[0;32m     19\u001b[0m \u001b[1;32mfor\u001b[0m \u001b[0mi\u001b[0m \u001b[1;32min\u001b[0m \u001b[0mlister\u001b[0m\u001b[1;33m:\u001b[0m\u001b[1;33m\u001b[0m\u001b[1;33m\u001b[0m\u001b[0m\n\u001b[1;32m---> 20\u001b[1;33m     \u001b[0mres\u001b[0m\u001b[1;33m.\u001b[0m\u001b[0mappend\u001b[0m\u001b[1;33m(\u001b[0m\u001b[0mMark\u001b[0m\u001b[1;33m(\u001b[0m\u001b[0mi\u001b[0m\u001b[1;33m)\u001b[0m\u001b[1;33m)\u001b[0m\u001b[1;33m\u001b[0m\u001b[1;33m\u001b[0m\u001b[0m\n\u001b[0m\u001b[0;32m     21\u001b[0m \u001b[0mprint\u001b[0m\u001b[1;33m(\u001b[0m\u001b[1;33m(\u001b[0m\u001b[0mlen\u001b[0m\u001b[1;33m(\u001b[0m\u001b[0mres\u001b[0m\u001b[1;33m[\u001b[0m\u001b[1;36m1\u001b[0m\u001b[1;33m]\u001b[0m\u001b[1;33m.\u001b[0m\u001b[0m_instances\u001b[0m\u001b[1;33m)\u001b[0m\u001b[1;33m)\u001b[0m\u001b[1;33m)\u001b[0m\u001b[1;33m\u001b[0m\u001b[1;33m\u001b[0m\u001b[0m\n",
      "\u001b[1;32m<ipython-input-1-b112480f9c57>\u001b[0m in \u001b[0;36m__new__\u001b[1;34m(cls, *args, **kwargs)\u001b[0m\n\u001b[0;32m      6\u001b[0m         \u001b[1;32mif\u001b[0m \u001b[0mlen\u001b[0m\u001b[1;33m(\u001b[0m\u001b[0mcls\u001b[0m\u001b[1;33m.\u001b[0m\u001b[0m_instances\u001b[0m\u001b[1;33m)\u001b[0m\u001b[1;33m>=\u001b[0m\u001b[0mcls\u001b[0m\u001b[1;33m.\u001b[0m\u001b[0mlimit\u001b[0m\u001b[1;33m:\u001b[0m\u001b[1;33m\u001b[0m\u001b[1;33m\u001b[0m\u001b[0m\n\u001b[0;32m      7\u001b[0m             \u001b[0mprint\u001b[0m\u001b[1;33m(\u001b[0m\u001b[1;36m1\u001b[0m\u001b[1;33m)\u001b[0m\u001b[1;33m\u001b[0m\u001b[1;33m\u001b[0m\u001b[0m\n\u001b[1;32m----> 8\u001b[1;33m             \u001b[1;32mraise\u001b[0m \u001b[0mRuntimeError\u001b[0m\u001b[1;33m(\u001b[0m\u001b[1;34mf\"Не шмогла я, не шмогла, лимит всего {cls.limit}\"\u001b[0m\u001b[1;33m)\u001b[0m\u001b[1;33m\u001b[0m\u001b[1;33m\u001b[0m\u001b[0m\n\u001b[0m\u001b[0;32m      9\u001b[0m         \u001b[0minstance\u001b[0m \u001b[1;33m=\u001b[0m \u001b[0msuper\u001b[0m\u001b[1;33m(\u001b[0m\u001b[1;33m)\u001b[0m\u001b[1;33m.\u001b[0m\u001b[0m__new__\u001b[0m\u001b[1;33m(\u001b[0m\u001b[0mcls\u001b[0m\u001b[1;33m)\u001b[0m\u001b[1;33m\u001b[0m\u001b[1;33m\u001b[0m\u001b[0m\n\u001b[0;32m     10\u001b[0m         \u001b[0mcls\u001b[0m\u001b[1;33m.\u001b[0m\u001b[0m_instances\u001b[0m\u001b[1;33m.\u001b[0m\u001b[0mappend\u001b[0m\u001b[1;33m(\u001b[0m\u001b[0minstance\u001b[0m\u001b[1;33m)\u001b[0m\u001b[1;33m\u001b[0m\u001b[1;33m\u001b[0m\u001b[0m\n",
      "\u001b[1;31mRuntimeError\u001b[0m: Не шмогла я, не шмогла, лимит всего 3"
     ]
    }
   ],
   "source": [
    "class Mark:\n",
    "    _instances=[]\n",
    "    limit=3 #т.е. мы не хотим иметь больше 5 инстансов\n",
    "    def __new__(cls,*args,**kwargs):\n",
    "        print(\"i am here\")\n",
    "        if len(cls._instances)>=cls.limit:\n",
    "            print(1)\n",
    "            raise RuntimeError(f\"Не шмогла я, не шмогла, лимит всего {cls.limit}\")\n",
    "        instance = super().__new__(cls)\n",
    "        cls._instances.append(instance)\n",
    "        return instance\n",
    "    \n",
    "    def __init__(self,name):\n",
    "        print (\"here is init babe\")\n",
    "        self.name = name\n",
    "\n",
    "lister = ['kurp','burp', 'durp', 'lurp']\n",
    "res=[]\n",
    "for i in lister:\n",
    "    res.append(Mark(i))\n",
    "print((len(res[1]._instances)))   "
   ]
  },
  {
   "cell_type": "markdown",
   "metadata": {},
   "source": [
    "Следующий метод: \\_\\_eq_\\_\\. Он позволяет определить что происходит при сравнении инстансов между собой (иными словами, перегружает оператор \"==\")"
   ]
  },
  {
   "cell_type": "code",
   "execution_count": 2,
   "metadata": {},
   "outputs": [
    {
     "name": "stdout",
     "output_type": "stream",
     "text": [
      "True\n"
     ]
    }
   ],
   "source": [
    "class User:\n",
    "    def __init__(self, name, email):\n",
    "        self.name = name\n",
    "        self.email = email\n",
    "        \n",
    "    def __eq__(self,obj):\n",
    "        return self.email == obj.email\n",
    "\n",
    "jane = User('Jane Doe', 'jdoe@example.com')\n",
    "joe = User('Joe Doe', 'jdoe@example.com')\n",
    "\n",
    "\n",
    "print(jane == joe)"
   ]
  },
  {
   "cell_type": "markdown",
   "metadata": {},
   "source": [
    "Метод \\_\\_hash\\_\\_ позволяет описать поведение функции hash при применении к нашему объекту. Это особенно полезно,\n",
    "если мы собираемся писать инстансы в хэшируемый объект, например в словарь. Тогда, если у нас есть два объекта, с разными, например, именами, но одинаковым хэшем, в словаре будет создана только одна запись. На примере будет понятнее:"
   ]
  },
  {
   "cell_type": "code",
   "execution_count": 5,
   "metadata": {},
   "outputs": [
    {
     "name": "stdout",
     "output_type": "stream",
     "text": [
      "-7899787547237131296\n",
      "-7899787547237131296\n",
      "{<__main__.User object at 0x0000027C818A9B00>: 'Joe Doe'}\n"
     ]
    }
   ],
   "source": [
    "class User:\n",
    "    def __init__(self, name, email):\n",
    "        self.name = name\n",
    "        self.email = email\n",
    "        \n",
    "    def __hash__(self):\n",
    "        return hash(self.email)  #получается, если у нас две записи с одним имейлом, у них все равно будет одинаковый хэш\n",
    "        \n",
    "    def __eq__(self,obj):\n",
    "        return self.email == obj.email\n",
    "\n",
    "jane = User('Jane Doe', 'jdoe@example.com')\n",
    "joe = User('Joe Doe', 'jdoe@example.com')\n",
    "\n",
    "print(hash(jane))\n",
    "print(hash(joe))\n",
    "hashable_type = {user:user.name for user in [jane,joe]}\n",
    "print(hashable_type) #только один объект добавлен в словарь, хотя итерация шла по двум переменным. Очередное напоминание того,\n",
    "#что в питоне переменные - это просто указатели, и в данном случае они указывают на один объект"
   ]
  },
  {
   "cell_type": "markdown",
   "metadata": {},
   "source": [
    "Следующие методы: \\_\\_getattr\\_\\_ и \\_\\_getattribute\\_\\_. Их часто путают, но у них есть фундаментальное различие - \\_\\_getattribute\\_\\_ вызывается каждый раз, когда мы пытаемся получить какой-то аттрибут (т.е. при любой записи формата instance.attribute), а метод \\_\\_getattr\\_\\_ вызывается только если атрибут получить не удалось. Тонкий момент - \\_\\_setattr\\_\\_ это аналог \\_\\_getattribute\\_\\_ для присвоения атрибута, т.е. он вызывается каждый раз, когда мы пытаемся присвоить значение атрибуту."
   ]
  },
  {
   "cell_type": "code",
   "execution_count": 11,
   "metadata": {},
   "outputs": [
    {
     "name": "stdout",
     "output_type": "stream",
     "text": [
      "Looking for attr\n",
      "Nothing found :()\n",
      "\n",
      "Looking for method\n",
      "Nothing found :()\n",
      "\n",
      "Looking for DFG2H3J00KLL\n",
      "Nothing found :()\n",
      "\n"
     ]
    }
   ],
   "source": [
    "class Researcher:\n",
    "    def __getattr__(self, name):\n",
    "        return 'Nothing found :()\\n'\n",
    "    \n",
    "    def __getattribute__(self, name):\n",
    "        print('Looking for {}'.format(name))\n",
    "        return object.__getattribute__(self, name)  #__getattribute__ обязательно должен обращаться к этому же методу\n",
    "                                                    #родительского класса, иначе - бесконечная рекурсия, с сетом та же тема\n",
    "    \n",
    "\n",
    "obj = Researcher()\n",
    "\n",
    "print(obj.attr)\n",
    "print(obj.method)\n",
    "print(obj.DFG2H3J00KLL)"
   ]
  },
  {
   "cell_type": "markdown",
   "metadata": {},
   "source": [
    "Далее поговорим о методе \\_\\_call\\_\\_. Его часто путают с \\_\\_init\\_\\_. Однако на деле они достаточно серьезно отличаются. Инит вызывается при __инициализации инстанса__, а \\_\\_call\\_\\_ при __вызове инстанса как функции__. Кстати у функций тоже есть метод колл."
   ]
  },
  {
   "cell_type": "code",
   "execution_count": 19,
   "metadata": {},
   "outputs": [
    {
     "name": "stdout",
     "output_type": "stream",
     "text": [
      "init here bro\n",
      "call here bro\n",
      "9\n"
     ]
    }
   ],
   "source": [
    "class Vasya:\n",
    "    def __init__(self,name):\n",
    "        print(\"init here bro\")\n",
    "        self.name = name\n",
    "    def __call__(self, *args):\n",
    "        print(\"call here bro\")\n",
    "        return sum(list(args))\n",
    "\n",
    "vas = Vasya('sos')  #тут работает init\n",
    "print(vas(2,3,4))   #тут работает call\n"
   ]
  },
  {
   "cell_type": "markdown",
   "metadata": {},
   "source": [
    "Метод \\_\\_add\\_\\_ перегружает оператор +. Для остальных операторов есесна тоже есть свои методы."
   ]
  },
  {
   "cell_type": "markdown",
   "metadata": {},
   "source": [
    "\\_\\_getitem\\_\\_ и \\_\\_setitem\\_\\_ опредляют чтение и присвоение значения по ключу (типа как в словаре, когда ключ в квадратных скобочках). "
   ]
  },
  {
   "cell_type": "markdown",
   "metadata": {},
   "source": [
    "Особенного внимания заслуживают методы \\_\\_iter\\_\\_ и \\_\\_next\\_\\_, которые определяют поведение объекта при итерации. Так, если у объекта не определен \\_\\_iter\\_\\_, то по нему невозможно будет итерироваться. Итого, итератор в python — это любой объект, реализующий метод \\_\\_next\\_\\_ без аргументов, который должен вернуть следующий элемент или ошибку StopIteration. Также он реализует метод \\_\\_iter\\_\\_ и поэтому сам является итерируемым объектом."
   ]
  },
  {
   "cell_type": "code",
   "execution_count": 21,
   "metadata": {},
   "outputs": [
    {
     "name": "stdout",
     "output_type": "stream",
     "text": [
      "1\n",
      "4\n",
      "9\n"
     ]
    }
   ],
   "source": [
    "class SquareIterator:\n",
    "    def __init__(self, start, end):\n",
    "        self.current = start\n",
    "        self.end = end\n",
    "        \n",
    "    def __iter__(self):  #в 99% случаев итератор должен возвращать self, чтобы некст понимал, что делает\n",
    "        return self\n",
    "    \n",
    "    def __next__(self):\n",
    "        if self.current >= self.end:\n",
    "            raise StopIteration\n",
    "\n",
    "        result = self.current ** 2\n",
    "        self.current += 1\n",
    "        return result\n",
    "    \n",
    "    \n",
    "for num in SquareIterator(1, 4):\n",
    "    print(num)"
   ]
  },
  {
   "cell_type": "markdown",
   "metadata": {},
   "source": [
    "# Контекстные менеджеры"
   ]
  },
  {
   "cell_type": "markdown",
   "metadata": {},
   "source": [
    "Контекстные менеджеры - это объекты, в которых определены методы _\\_\\enter\\_\\_ и \\_\\_exit\\_\\_. Самый наглядный пример - __open__. Менеджеры контекста позволяют выполнить какие-то действия для настройки или очистки (например. закрытие файла как в open), если создание объекта завернуто в слово with. "
   ]
  },
  {
   "cell_type": "markdown",
   "metadata": {},
   "source": [
    "\\_\\_enter\\_\\_ собственно позволяет нам войти в этот самый контекст, в котором будут производиться действия пока блок with не закончится. Важно, что то что возвращает \\_\\_enter\\_\\_ и будем тем значением, которое примэппится к значению после улючевого слова __as__."
   ]
  },
  {
   "cell_type": "markdown",
   "metadata": {},
   "source": [
    "\\_\\_exit\\_\\_, таким образом, определяет действие, которое должно быть выполнно при завершении или прерывании выполнения кода в блоке __with .. as__. Чаще всего это закрытие файла, разрыв соединения и т.п."
   ]
  },
  {
   "cell_type": "code",
   "execution_count": 22,
   "metadata": {},
   "outputs": [],
   "source": [
    "class open_file:\n",
    "    def __init__(self, filename, mode):\n",
    "        self.f = open(filename, mode)\n",
    "    \n",
    "    def __enter__(self):\n",
    "        return self.f\n",
    "    \n",
    "    def __exit__(self, *args):\n",
    "        self.f.close()"
   ]
  },
  {
   "cell_type": "code",
   "execution_count": 23,
   "metadata": {},
   "outputs": [
    {
     "name": "stdout",
     "output_type": "stream",
     "text": [
      "['Inside `open_file` context manager']\n"
     ]
    }
   ],
   "source": [
    "with open_file('test.log', 'w') as f:\n",
    "    f.write('Inside `open_file` context manager')\n",
    "\n",
    "with open_file('test.log', 'r') as f:\n",
    "    print(f.readlines())"
   ]
  },
  {
   "cell_type": "markdown",
   "metadata": {},
   "source": [
    "Есть стандартная библиотека contextlib, в которой много всяких полезных менеджеров контекста."
   ]
  },
  {
   "cell_type": "markdown",
   "metadata": {},
   "source": [
    "# Дескрипторы"
   ]
  },
  {
   "cell_type": "markdown",
   "metadata": {},
   "source": [
    "Дескрипторы - специальные классы, которые позволяют переопределить повведение объектов при доступе, назначении и удалении атрибутов. Это наиболее низкоуровневый механизм, на котором основываются декораторы типа @property, @staticmethod, @classmethod. Иными словами, при использовании этих декораторов мы создаем инстанс соответствующего класса-дескриптора (property, staticmethod или classmethod). "
   ]
  },
  {
   "cell_type": "markdown",
   "metadata": {},
   "source": [
    "Чтобы класс считался дескриптором достаточно определить хотя бы один из методов \\_\\_get\\_\\_, \\_\\_set\\_\\_, \\_\\_delete\\_\\_. Если определен только \\_\\_get\\_\\_ - перед нами non-data descriptor, если все три, то data descriptor. Чтобы понять, в чем принципиальное отличие между ними, нужно сделать небольшое отступление, объясняющее что собственно делают дескрипторы.\n"
   ]
  },
  {
   "cell_type": "code",
   "execution_count": 1,
   "metadata": {},
   "outputs": [
    {
     "name": "stdout",
     "output_type": "stream",
     "text": [
      "Getting desc\n",
      "Mike\n",
      "10\n",
      "Setting desc to 100\n",
      "Getting desc\n",
      "100\n"
     ]
    }
   ],
   "source": [
    "class MyDescriptor():\n",
    "    \"\"\"\n",
    "    A simple demo descriptor\n",
    "    \"\"\"\n",
    "    def __init__(self, initial_value=None, name='my_var'):\n",
    "        self.var_name = name\n",
    "        self.value = initial_value\n",
    " \n",
    "    def __get__(self, obj, objtype):\n",
    "        print('Getting', self.var_name)\n",
    "        return self.value\n",
    " \n",
    "    def __set__(self, obj, value):\n",
    "        msg = 'Setting {name} to {value}'\n",
    "        print(msg.format(name=self.var_name, value=value))\n",
    "        self.value = value\n",
    " \n",
    "class MyClass():\n",
    "    desc = MyDescriptor(initial_value='Mike', name='desc')\n",
    "    normal = 10\n",
    "    \n",
    "c = MyClass()\n",
    "print(c.desc)\n",
    "print(c.normal)\n",
    "c.desc = 100\n",
    "print(c.desc)"
   ]
  },
  {
   "cell_type": "markdown",
   "metadata": {},
   "source": [
    "Как мы видим из примера выше, при вызове вида __obj.attribute__ на самом деле вызывается метод дескриптора \\_\\_get\\_\\_. В случае с \\_\\_set\\_\\_ ситуация аналогичная. Если вдаватьсяя в технические детали, то при любом вызове obj.attribute вызывается \\_\\_getattribute\\_\\_, внутри которого прописана логика поиска, в которой у \\_\\_get\\_\\_ самый высокий приоритет. Таким образом, если мы имеем дело с дескриптором, вызов типа obj.attribute (т.е. вызов из __инстанса, а не из класса__) трансформируется в __type(obj).\\_\\_dict\\_\\_\\['atribute'\\].\\_\\_get\\_\\_(obj, type(obj))__. При вызове из класса типа __Class.attr__ он превращается в __Class.\\_\\_dict\\_\\_\\['attr'\\].\\_\\_get\\_\\_(None, Class)__."
   ]
  },
  {
   "cell_type": "markdown",
   "metadata": {},
   "source": [
    "Разницу в вызове чего бы то ни было из класса и инстанса отлично демонстрировать на примере методов/функций. Раньше в питоне различали bound method, undound method и function. Из названия понятно что bound метод привязан к конкретному инстансу, а unbound, который в третьем питоне слился с function, к конкретному инстансу не привязан и может быть вызван как обычная функция, без инициализации инстанса."
   ]
  },
  {
   "cell_type": "code",
   "execution_count": 3,
   "metadata": {},
   "outputs": [
    {
     "name": "stdout",
     "output_type": "stream",
     "text": [
      "<bound method Class.method of <__main__.Class object at 0x0000020C46CA9588>>\n",
      "<function Class.method at 0x0000020C46C83730>\n"
     ]
    }
   ],
   "source": [
    "class Class:\n",
    "    def method(self):\n",
    "        pass    \n",
    "    \n",
    "obj = Class()    \n",
    "\n",
    "print(obj.method)\n",
    "print(Class.method)\n"
   ]
  },
  {
   "cell_type": "markdown",
   "metadata": {},
   "source": [
    "Так вот, разница между data и non-data descriptors заключается в том, что у них разная логика поиска (lookup chain). В случае с data descriptor у нас \\_\\_get\\_\\_ всегда в приоритете, а вот в случае с non-data - поиск атрибута в \\_\\_dict\\_\\_ инстанса будет приоритетен. Пример:"
   ]
  },
  {
   "cell_type": "code",
   "execution_count": 10,
   "metadata": {},
   "outputs": [],
   "source": [
    "class A(object):\n",
    "   def __get__(self, obj, objtype):\n",
    "       print(\"hello from get A\")\n",
    "   def __set__(self, obj, val):\n",
    "       print (\"hello from set A\")\n",
    "#non data descriptor\n",
    "class B(object):\n",
    "   def __get__(self, obj, objtype):\n",
    "       print (\"hello from get B\")\n",
    "\n",
    "class C(object):\n",
    "   #our data descriptor\n",
    "   a = A()\n",
    "   #our non data descriptor\n",
    "   b = B()\n",
    "\n",
    "c = C()"
   ]
  },
  {
   "cell_type": "code",
   "execution_count": 11,
   "metadata": {},
   "outputs": [
    {
     "name": "stdout",
     "output_type": "stream",
     "text": [
      "hello from get A\n"
     ]
    }
   ],
   "source": [
    "c.a"
   ]
  },
  {
   "cell_type": "code",
   "execution_count": 12,
   "metadata": {},
   "outputs": [
    {
     "name": "stdout",
     "output_type": "stream",
     "text": [
      "hello from get B\n"
     ]
    }
   ],
   "source": [
    "c.b"
   ]
  },
  {
   "cell_type": "code",
   "execution_count": 13,
   "metadata": {},
   "outputs": [
    {
     "name": "stdout",
     "output_type": "stream",
     "text": [
      "hello from set A\n",
      "hello from get A\n"
     ]
    }
   ],
   "source": [
    "c.a=0\n",
    "c.a  #notice after reassignment, A.__get__ is still called"
   ]
  },
  {
   "cell_type": "code",
   "execution_count": 14,
   "metadata": {},
   "outputs": [
    {
     "data": {
      "text/plain": [
       "0"
      ]
     },
     "execution_count": 14,
     "metadata": {},
     "output_type": "execute_result"
    }
   ],
   "source": [
    "c.b=0   #instance variable with the same name as the non data-descriptor\n",
    "c.b     #__get__ is not called"
   ]
  },
  {
   "cell_type": "markdown",
   "metadata": {},
   "source": [
    "__NB__. Атрибуты, которые я хочу сделать дескрипторами в своем классе, не нужно инциализировать через \\_\\_init\\_\\_, потому что в таком случае я их __замаскирую__ и дескриптор лишится всякого смысла. Пример:"
   ]
  },
  {
   "cell_type": "code",
   "execution_count": 16,
   "metadata": {},
   "outputs": [],
   "source": [
    "class D(object):\n",
    "\n",
    "    \"The Descriptor\"\n",
    "\n",
    "    def __init__(self, x = 1395):\n",
    "        self.x = x\n",
    "\n",
    "    def __get__(self, instance, owner):\n",
    "        print (\"getting\", self.x)\n",
    "        return self.x\n",
    "\n",
    "\n",
    "class C(object):\n",
    "\n",
    "    d = D()   #атрибут d стал дескриптором\n",
    "\n",
    "    def __init__(self, d):      # засунули его в инит\n",
    "        self.d = d"
   ]
  },
  {
   "cell_type": "code",
   "execution_count": 18,
   "metadata": {},
   "outputs": [
    {
     "data": {
      "text/plain": [
       "4"
      ]
     },
     "execution_count": 18,
     "metadata": {},
     "output_type": "execute_result"
    }
   ],
   "source": [
    "c = C(4)\n",
    "c.d   # принт не вывелся, т.е. __get__ не был вызван"
   ]
  },
  {
   "cell_type": "code",
   "execution_count": null,
   "metadata": {},
   "outputs": [],
   "source": []
  }
 ],
 "metadata": {
  "kernelspec": {
   "display_name": "Python 3",
   "language": "python",
   "name": "python3"
  },
  "language_info": {
   "codemirror_mode": {
    "name": "ipython",
    "version": 3
   },
   "file_extension": ".py",
   "mimetype": "text/x-python",
   "name": "python",
   "nbconvert_exporter": "python",
   "pygments_lexer": "ipython3",
   "version": "3.7.1"
  }
 },
 "nbformat": 4,
 "nbformat_minor": 2
}
